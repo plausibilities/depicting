{
 "cells": [
  {
   "cell_type": "markdown",
   "id": "29070577-5c37-4754-88f5-cefb6de62f2b",
   "metadata": {},
   "source": [
    "# Preliminaries"
   ]
  },
  {
   "cell_type": "code",
   "execution_count": 1,
   "id": "d3cdddcf-07ca-4ebf-a6ac-c08353e8844d",
   "metadata": {},
   "outputs": [],
   "source": [
    "setwd(base::dirname(getwd()))"
   ]
  },
  {
   "cell_type": "markdown",
   "id": "aa64854c-f843-4ab5-8272-8c6b8a00ff07",
   "metadata": {},
   "source": [
    "<br>\n",
    "\n",
    "The project's directory"
   ]
  },
  {
   "cell_type": "code",
   "execution_count": 2,
   "id": "a9fe23a6-c454-4073-9ce4-58916d8b0a5a",
   "metadata": {},
   "outputs": [
    {
     "data": {
      "text/html": [
       "'J:/library/plausibilities/depicting'"
      ],
      "text/latex": [
       "'J:/library/plausibilities/depicting'"
      ],
      "text/markdown": [
       "'J:/library/plausibilities/depicting'"
      ],
      "text/plain": [
       "[1] \"J:/library/plausibilities/depicting\""
      ]
     },
     "metadata": {},
     "output_type": "display_data"
    }
   ],
   "source": [
    "getwd()"
   ]
  },
  {
   "cell_type": "markdown",
   "id": "91a42dc7-9f32-4983-ba09-0a9f7583bb3c",
   "metadata": {},
   "source": [
    "<br>\n",
    "<br>\n",
    "\n",
    "## Libraries"
   ]
  },
  {
   "cell_type": "code",
   "execution_count": 3,
   "id": "11a704b8-ccf1-4a71-918c-273dec86db09",
   "metadata": {},
   "outputs": [],
   "source": [
    "source('R/Activate.R')"
   ]
  },
  {
   "cell_type": "code",
   "execution_count": 7,
   "id": "55848b87-96ce-4ead-ba9c-0ccd99f65176",
   "metadata": {},
   "outputs": [],
   "source": [
    "tryCatch(\n",
    "    expr = {\n",
    "        sink('session.log')\n",
    "        notes <- Activate()\n",
    "        print(notes)\n",
    "        sink()\n",
    "    }, \n",
    "    error = function(e){message(e$message)}, warning = function(w){message(w$message)}, finally = {'...'}\n",
    ")\n",
    "\n"
   ]
  },
  {
   "cell_type": "markdown",
   "id": "175883bf-5dc6-458b-b6ba-462901013eb5",
   "metadata": {},
   "source": [
    "<br>\n",
    "<br>\n",
    "\n",
    "# Notation"
   ]
  }
 ],
 "metadata": {
  "kernelspec": {
   "display_name": "R",
   "language": "R",
   "name": "ir"
  },
  "language_info": {
   "codemirror_mode": "r",
   "file_extension": ".r",
   "mimetype": "text/x-r-source",
   "name": "R",
   "pygments_lexer": "r",
   "version": "4.1.3"
  }
 },
 "nbformat": 4,
 "nbformat_minor": 5
}
