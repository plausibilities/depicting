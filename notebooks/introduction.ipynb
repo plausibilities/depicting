{
 "cells": [
  {
   "cell_type": "markdown",
   "id": "29070577-5c37-4754-88f5-cefb6de62f2b",
   "metadata": {},
   "source": [
    "# Preliminaries"
   ]
  },
  {
   "cell_type": "code",
   "execution_count": 1,
   "id": "d3cdddcf-07ca-4ebf-a6ac-c08353e8844d",
   "metadata": {},
   "outputs": [],
   "source": [
    "setwd(base::dirname(getwd()))"
   ]
  },
  {
   "cell_type": "markdown",
   "id": "aa64854c-f843-4ab5-8272-8c6b8a00ff07",
   "metadata": {},
   "source": [
    "<br>\n",
    "\n",
    "The project's directory"
   ]
  },
  {
   "cell_type": "code",
   "execution_count": 2,
   "id": "a9fe23a6-c454-4073-9ce4-58916d8b0a5a",
   "metadata": {},
   "outputs": [
    {
     "data": {
      "text/html": [
       "'J:/library/plausibilities/depicting'"
      ],
      "text/latex": [
       "'J:/library/plausibilities/depicting'"
      ],
      "text/markdown": [
       "'J:/library/plausibilities/depicting'"
      ],
      "text/plain": [
       "[1] \"J:/library/plausibilities/depicting\""
      ]
     },
     "metadata": {},
     "output_type": "display_data"
    }
   ],
   "source": [
    "getwd()"
   ]
  },
  {
   "cell_type": "markdown",
   "id": "91a42dc7-9f32-4983-ba09-0a9f7583bb3c",
   "metadata": {},
   "source": [
    "<br>\n",
    "<br>\n",
    "\n",
    "## Libraries"
   ]
  },
  {
   "cell_type": "markdown",
   "id": "dd90895a-8eb6-45c8-a52e-5d848893d800",
   "metadata": {},
   "source": [
    "Activate the core libraries via\n",
    "\n",
    "```r\n",
    "file.path(getcwd(), 'R', 'main.R')\n",
    "```"
   ]
  },
  {
   "cell_type": "code",
   "execution_count": 3,
   "id": "0d98931d-fe71-489b-93aa-4682b1671ee6",
   "metadata": {},
   "outputs": [],
   "source": [
    "source(file = file.path(getwd(), 'R', 'main.R'), echo = FALSE)"
   ]
  },
  {
   "cell_type": "markdown",
   "id": "31d62cf5-1fa5-4248-892e-aba473963608",
   "metadata": {},
   "source": [
    "<br>\n",
    "<br>\n",
    "\n",
    "# Examples"
   ]
  },
  {
   "cell_type": "markdown",
   "id": "c62b4ce1-4f27-4b43-8569-9cf481406fd6",
   "metadata": {},
   "source": [
    "## Fundamental Statistics"
   ]
  },
  {
   "cell_type": "markdown",
   "id": "55684db2-1bf6-4a2d-ae6b-5672c285936c",
   "metadata": {},
   "source": [
    "**The death penalty survey & proportions**: confidence interval, margin of error, confidence level, significance level, \n",
    "standard error, standard deviation"
   ]
  },
  {
   "cell_type": "code",
   "execution_count": 4,
   "id": "041d5611-20ef-4e78-8c51-05d00a95a063",
   "metadata": {},
   "outputs": [],
   "source": [
    "source(file = file.path(getwd(), 'R', 'algorithms', 'DeathPenalty.R'))"
   ]
  },
  {
   "cell_type": "code",
   "execution_count": 5,
   "id": "2df78d19-c525-4aff-b957-f85494649ba2",
   "metadata": {},
   "outputs": [
    {
     "data": {
      "image/png": "[encoded data removed]",
      "text/plain": [
       "plot without title"
      ]
     },
     "metadata": {
      "image/png": {
       "height": 420,
       "width": 420
      }
     },
     "output_type": "display_data"
    }
   ],
   "source": [
    "DeathPenalty()"
   ]
  }
 ],
 "metadata": {
  "kernelspec": {
   "display_name": "R",
   "language": "R",
   "name": "ir"
  },
  "language_info": {
   "codemirror_mode": "r",
   "file_extension": ".r",
   "mimetype": "text/x-r-source",
   "name": "R",
   "pygments_lexer": "r",
   "version": "4.1.3"
  }
 },
 "nbformat": 4,
 "nbformat_minor": 5
}
